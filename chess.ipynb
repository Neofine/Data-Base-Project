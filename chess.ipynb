{
 "cells": [
  {
   "cell_type": "code",
   "execution_count": 4,
   "metadata": {},
   "outputs": [],
   "source": [
    "podzielona = linia.split(' ')"
   ]
  },
  {
   "cell_type": "code",
   "execution_count": 10,
   "metadata": {},
   "outputs": [
    {
     "name": "stdout",
     "output_type": "stream",
     "text": [
      "1. d4 d5\n",
      "2. Nf3 Nf6\n",
      "3. e3 Bf5\n",
      "4. Nh4 Bg6\n",
      "5. Nxg6 hxg6\n",
      "6. Nd2 e6\n",
      "7. Bd3 Bd6\n",
      "8. e4 dxe4\n",
      "9. Nxe4 Rxh2\n",
      "10. Ke2 Rxh1\n",
      "11. Qxh1 Nc6\n",
      "12. Bg5 Ke7\n",
      "13. Qh7 Nxd4+\n",
      "14. Kd2 Qe8\n",
      "15. Qxg7 Qh8\n",
      "16. Bxf6+ Kd7\n",
      "17. Qxh8 Rxh8\n",
      "18. Bxh8 1-0\n"
     ]
    }
   ],
   "source": [
    "for i in range(int(len(podzielona)/3)):\n",
    "    print(podzielona[3*i], podzielona[3*i+1], podzielona[3*i+2])"
   ]
  },
  {
   "cell_type": "code",
   "execution_count": 6,
   "metadata": {},
   "outputs": [],
   "source": [
    "from random import randint\n",
    "import sys\n",
    "\n",
    "# Losowa liczba całkowita od minimum do maximum zwrócona jako string, dopełniona prefixem zero jeśli jest jednocyfrowa.\n",
    "def rand_string(minimum, maximum):\n",
    "    rand = str(randint(minimum, maximum))\n",
    "    if len(rand) < 2:\n",
    "        rand = '0' + rand\n",
    "    return rand\n",
    "\n",
    "# Wygenerowana data of 2010 do 2021, godzina między 8 o 20. Ustaw delimiter jaki lubisz.\n",
    "def rand_date_time():\n",
    "    return rand_string(2018, 2020) + '-' + rand_string(1, 12) + '-' + rand_string(1, 28) + ' ' + rand_string(8, 19) + ':' + rand_string(0, 59) + ':' + rand_string(0, 59)\n",
    "\n",
    "# Generujemy sobie number_of_dates dat.\n",
    "number_of_dates = 500\n",
    "list_of_dates = []\n",
    "for i in range(number_of_dates):\n",
    "    date = rand_date_time()\n",
    "    list_of_dates.append(date)\n",
    "\n",
    "# Sortujemy od najwcześniejszej do najnowszej. Jak wolisz odwrotnie to reverse zmień na True.\n",
    "list_of_dates.sort(reverse = False)\n",
    "\n",
    "\n",
    "original_stdout = sys.stdout\n",
    "\n",
    "with open('datesList.txt', 'w') as f:\n",
    "    sys.stdout = f\n",
    "    for i in range(number_of_dates):\n",
    "        print(list_of_dates[i])\n",
    "    sys.stdout = original_stdout"
   ]
  },
  {
   "cell_type": "code",
   "execution_count": 7,
   "metadata": {},
   "outputs": [
    {
     "name": "stdout",
     "output_type": "stream",
     "text": [
      "['BFG9k', 'mamalak', 'Desmond_Wilson', 'savinka59', 'Kozakmamay007', 'VanillaShamanilla', 'Naitero_Nagasaki', '800', 'nichiren1967', 'sport', 'shamirbj', 'tiggran', 'arion_6', 'hostking', 'troepianiz', 'manos68', 'jtkjtkful', 'adamsrj', 'hamiakaz', 'Sagaz', 'vadi', 'Abd0', 'Killi', 'chinokoli', 'Voltvolf', 'Marzinkus', 'ghosty', 'jorespi', '6WX', 'georgek', 'b777', 'sebastian44', 'ticotico', 'Federico', 'omarojo', 'josefo', 'cheesedout', 'pseudoknight', 'j-jorjik', 'jesuss', 'barriosgb2', 'Boss92', 'migsan', 'MARC0', 'metrolog', 'Ben_Dover', 'Jonathan_52', 'Milligan', 'Sig', 'sonie', 'Maroz', '1000', 'schutzstaffel', 'Rodney', 'neto391994', 'Gardo', 'ricodelacasita', 'maslick', 'nujabes', 'Beibus', 'Carroll', 'tarasss', 'Mariss', 'joecasatro', 'hehehaha', 'FifthCategory', 'HeyPepito', 'NotGoodAtThis', 'giao', 'excel', 'rennigeb', 'zanella', 'Batalha', 'chess345', 't4nk', 'Krieg', 'sanuch111', 'Kyklades', 'djarfur', 'Papachaco', 'angrom', 'airtsart', 'Neuronchess', 'LEGENDARY_ERFAN', 'etewut', 'peter2', 'rasmussenesq', 'dipo_a', 'namesnik', 'Hephesto', 'blizz', 'TwoKings', 'ADRNLNNJECTD', 'Danut68', 'serge', 'Shlomo', 'BCJ', 'GEZ', 'jlfs', 'jesse', 'MARCO0019', 'Luminosity', 'vivelafete', 'dissident_with_love', 'Adeximeus', 'lamobot', 'TheWeebles', 'throwaway', 'SiNiC', 'Rambo007max', 'mufasa', 'lifeofmg', 'AL3103', 'cougar1', 'driverblag', 'psonio', 'H___N', 'dbnp', 'DangerCat', 'chinekeboy', 'jimmy80', 'oleh77', 'Quixote91', 'donchester', 'jaquen81', 'kingofconcentration', 'zebrao', 'crazy2013', 'treehugger', 'MaxPax', 'kramer', 'snob', 'frenchnovice', 'msun', 'vblack', 'moonwalker', '61Doc', 'Delavock', 'gabrielvictor', 'Quentono', 'gsmaldone', 'Munius', 'La-la-la', 'Treach3', 'Elektricks', 'Thrinax', 'Wrzontek', 'Neofine', 'Nuuad', 'C-3PO', 'STOCKFISH20', 'R2-D2', 'Dehoo', 'MANIAC', 'DeepBlue', 'K2-SO', 'DR0ID']\n"
     ]
    }
   ],
   "source": [
    "import sys\n",
    "import random\n",
    "ini = open(\"logins.txt\", \"r\")\n",
    "\n",
    "xd = ini.read()\n",
    "\n",
    "split = xd.split('\\n')\n",
    "\n",
    "split.pop()\n",
    "\n",
    "print(split)"
   ]
  },
  {
   "cell_type": "code",
   "execution_count": 8,
   "metadata": {},
   "outputs": [],
   "source": [
    "\n",
    "def get_rand_pair(tab):\n",
    "    a = random.choice(tab)\n",
    "    b = random.choice(tab)\n",
    "    while(a == b):\n",
    "        b = random.choice(tab)\n",
    "    return (a, b)\n",
    "\n",
    "games_generated = 500\n",
    "\n",
    "original_stdout = sys.stdout\n",
    "\n",
    "duel = []\n",
    "\n",
    "with open('match.txt', 'w') as f:\n",
    "    sys.stdout = f\n",
    "    \n",
    "    for i in range(games_generated):\n",
    "        pair = get_rand_pair(split)\n",
    "        print(i + 1 , \" \" , pair[0] , \" \" , pair[1], sep=\"\")\n",
    "        duel.append((pair[0], pair[1]));\n",
    "        \n",
    "    sys.stdout = original_stdout\n",
    "    \n",
    "    \n",
    "def print_insert_duel(tab):\n",
    "    global games_generated\n",
    "    original_stdout = sys.stdout\n",
    "\n",
    "    with open('Uczestnicy.sql', 'w') as f:\n",
    "        sys.stdout = f\n",
    "\n",
    "        for i in range(games_generated):\n",
    "            print(\"INSERT INTO UCZESTNICY VALUES (\", i + 1, \", '\", tab[i][0], \"');\", sep=\"\");\n",
    "            print(\"INSERT INTO UCZESTNICY VALUES (\", i + 1, \", '\", tab[i][1], \"');\", sep=\"\");\n",
    "\n",
    "        sys.stdout = original_stdout\n",
    "    \n",
    "print_insert_duel(duel)"
   ]
  },
  {
   "cell_type": "code",
   "execution_count": 9,
   "metadata": {},
   "outputs": [],
   "source": [
    "timestamp = [\"2+1\", \"3+2\", \"5+0\", \"10+5\", \"10+0\", \"15+10\", \"30+0\", \"30+20\"]\n",
    "\n",
    "def print_date(date):\n",
    "    return \"TO_DATE('\" + date + \"', 'YYYY-MM-DD HH24:MI:SS')\"\n",
    "\n",
    "def print_date_T(date):\n",
    "    return \"TIMESTAMP '\" + date + \"'\"\n",
    "\n",
    "def print_game(duel, dates): \n",
    "    global games_generated\n",
    "    original_stdout = sys.stdout\n",
    "\n",
    "    with open('Rozgrywka.sql', 'w') as f:\n",
    "        sys.stdout = f\n",
    "\n",
    "        for i in range(games_generated):\n",
    "            print(\"INSERT INTO ROZGRYWKA VALUES (\", i + 1, \", 'SZACHY', '\", random.choice(duel[i]), \"', \", print_date_T(dates[i]), \", \", random.randrange(1, 5),\", '\", random.choice(timestamp), \"');\", sep=\"\");\n",
    "\n",
    "        sys.stdout = original_stdout\n",
    "        \n",
    "print_game(duel, list_of_dates)"
   ]
  },
  {
   "cell_type": "code",
   "execution_count": 10,
   "metadata": {},
   "outputs": [],
   "source": [
    "\n",
    "def print_move(nr, duel, linia):\n",
    "    podzielona = linia.split(' ')\n",
    "    \n",
    "    single_move = []\n",
    "    \n",
    "    for i in range(int(len(podzielona)/3)):\n",
    "        single_move.append(podzielona[3*i+1])\n",
    "        single_move.append(podzielona[3*i+2])\n",
    "    \n",
    "    whose = 0\n",
    "        \n",
    "    for i in range(len(single_move)):\n",
    "        print(\"INSERT INTO RUCH VALUES (\", i + 1, \", \", nr + 1, \", '\", duel[nr][whose], \"', '\", single_move[i], \"');\", sep=\"\")\n",
    "        if (whose == 1):\n",
    "            whose = 0\n",
    "        else:\n",
    "            whose = 1\n",
    "            \n",
    "        \n",
    "in_game = open(\"in1.txt\", \"r\")\n",
    "\n",
    "all_game = in_game.read().split('\\n')\n",
    "\n",
    "moves = []\n",
    "\n",
    "gamesDone = 0\n",
    "\n",
    "original_stdout = sys.stdout\n",
    "\n",
    "with open('Ruchy.sql', 'w') as f:\n",
    "    sys.stdout = f\n",
    "\n",
    "    for i in range(len(all_game)):\n",
    "        if (len(all_game[i]) > 0 and all_game[i][0] == '1'):\n",
    "            print_move(gamesDone, duel, all_game[i])\n",
    "            gamesDone = gamesDone + 1\n",
    "        if (gamesDone == games_generated):\n",
    "            break\n",
    "\n",
    "    sys.stdout = original_stdout\n"
   ]
  },
  {
   "cell_type": "code",
   "execution_count": null,
   "metadata": {},
   "outputs": [],
   "source": []
  },
  {
   "cell_type": "code",
   "execution_count": null,
   "metadata": {},
   "outputs": [],
   "source": []
  },
  {
   "cell_type": "code",
   "execution_count": null,
   "metadata": {},
   "outputs": [],
   "source": []
  }
 ],
 "metadata": {
  "kernelspec": {
   "display_name": "Python 3",
   "language": "python",
   "name": "python3"
  },
  "language_info": {
   "codemirror_mode": {
    "name": "ipython",
    "version": 3
   },
   "file_extension": ".py",
   "mimetype": "text/x-python",
   "name": "python",
   "nbconvert_exporter": "python",
   "pygments_lexer": "ipython3",
   "version": "3.8.5"
  }
 },
 "nbformat": 4,
 "nbformat_minor": 4
}
